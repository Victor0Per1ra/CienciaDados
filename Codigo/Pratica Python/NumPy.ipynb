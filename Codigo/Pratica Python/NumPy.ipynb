{
 "cells": [
  {
   "cell_type": "code",
   "execution_count": 2,
   "metadata": {},
   "outputs": [],
   "source": [
    "import numpy as np"
   ]
  },
  {
   "cell_type": "code",
   "execution_count": 5,
   "metadata": {},
   "outputs": [
    {
     "name": "stdout",
     "output_type": "stream",
     "text": [
      "[12 34 26 18 10]\n",
      "<class 'numpy.ndarray'>\n"
     ]
    }
   ],
   "source": [
    "#passando um vetor de dados \n",
    "mt = np.array([12,34,26,18,10])\n",
    "print (mt)\n",
    "print (type(mt))"
   ]
  },
  {
   "cell_type": "code",
   "execution_count": 8,
   "metadata": {},
   "outputs": [
    {
     "name": "stdout",
     "output_type": "stream",
     "text": [
      "[1. 2. 3.]\n",
      "[1 2 3]\n",
      "<class 'numpy.ndarray'>\n"
     ]
    }
   ],
   "source": [
    "#craindo um array específico\n",
    "#criando um array float com 64bits\n",
    "mtfloat = np.array([1,2,3], dtype = np.float64)\n",
    "print(mtfloat)\n",
    "\n",
    "mtint = np.array([1,2,3],dtype = np.int32)\n",
    "print(mtint)\n",
    "print(type(mtint))"
   ]
  },
  {
   "cell_type": "code",
   "execution_count": 16,
   "metadata": {},
   "outputs": [
    {
     "name": "stdout",
     "output_type": "stream",
     "text": [
      "[ 2.5    -4.7    32.1    14.5558]\n",
      "[ 2 -4 32 14]\n",
      "[12. 34. 26. 18. 10.]\n"
     ]
    }
   ],
   "source": [
    "#conversao de array\n",
    "mtneww = np.array([2.5,-4.7,32.1,14.5558])\n",
    "print (mtneww)\n",
    "\n",
    "mtnewwint = mtneww.astype(np.int32)\n",
    "print(mtnewwint)\n",
    "\n",
    "# podemos fazer o inverso\n",
    "mt2 = mt.astype(np.float64)\n",
    "print(mt2)"
   ]
  },
  {
   "cell_type": "code",
   "execution_count": 21,
   "metadata": {},
   "outputs": [
    {
     "name": "stdout",
     "output_type": "stream",
     "text": [
      "[[ 1  4  5]\n",
      " [ 2  3  5]\n",
      " [ 2 32 54]]\n"
     ]
    }
   ],
   "source": [
    "#criando uma matriz bidimensional\n",
    "#Tem que ter a mesma quantidade de colunas\n",
    "bimt = np.array([[1,4,5],[2,3,5],[2,32,54]])\n",
    "print (bimt)"
   ]
  },
  {
   "cell_type": "code",
   "execution_count": 22,
   "metadata": {},
   "outputs": [
    {
     "name": "stdout",
     "output_type": "stream",
     "text": [
      "[ 1  2 33 44 55]\n"
     ]
    }
   ],
   "source": [
    "#Não repetir valores\n",
    "j = np.array([1,1,2,2,33,44,55,55,44])\n",
    "j = np.unique(j)\n",
    "print(j)"
   ]
  },
  {
   "cell_type": "code",
   "execution_count": 35,
   "metadata": {},
   "outputs": [
    {
     "name": "stdout",
     "output_type": "stream",
     "text": [
      "[[7 5]\n",
      " [8 3]\n",
      " [6 4]]\n",
      "-----------\n",
      "[7 5]\n",
      "-----------\n",
      "[8 3]\n",
      "-----------\n",
      "[7 8 6]\n",
      "-----------\n",
      "[5 3 4]\n"
     ]
    }
   ],
   "source": [
    "#extração de linha de um array bidimensional \n",
    "arrayteste = np.array([[7,5],[8,3],[6,4]])\n",
    "print(arrayteste)\n",
    "print('-----------')\n",
    "linha_arrayteste = arrayteste[0, : ]\n",
    "print(linha_arrayteste)\n",
    "print('-----------')\n",
    "linha2_arrayteste = arrayteste[1, : ]\n",
    "print(linha2_arrayteste)\n",
    "print('-----------')\n",
    "\n",
    "\n",
    "# todas as linhas, primeira coluna\n",
    "coluna_arrayteste = arrayteste[:, 0]\n",
    "print(coluna_arrayteste)\n",
    "print('-----------')\n",
    "coluna2_arrayteste = arrayteste[:, 1]\n",
    "print(coluna2_arrayteste)"
   ]
  },
  {
   "cell_type": "code",
   "execution_count": null,
   "metadata": {},
   "outputs": [],
   "source": []
  }
 ],
 "metadata": {
  "kernelspec": {
   "display_name": "Python 3",
   "language": "python",
   "name": "python3"
  },
  "language_info": {
   "codemirror_mode": {
    "name": "ipython",
    "version": 3
   },
   "file_extension": ".py",
   "mimetype": "text/x-python",
   "name": "python",
   "nbconvert_exporter": "python",
   "pygments_lexer": "ipython3",
   "version": "3.11.2"
  },
  "orig_nbformat": 4
 },
 "nbformat": 4,
 "nbformat_minor": 2
}
