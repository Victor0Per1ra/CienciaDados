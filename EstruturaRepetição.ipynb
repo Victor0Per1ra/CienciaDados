{
 "cells": [
  {
   "cell_type": "code",
   "execution_count": 1,
   "metadata": {},
   "outputs": [
    {
     "name": "stdout",
     "output_type": "stream",
     "text": [
      "1\n",
      "2\n",
      "3\n",
      "4\n",
      "5\n"
     ]
    }
   ],
   "source": [
    "# Exemplo de While \n",
    "count = 1\n",
    "while count <= 5:\n",
    "    print (count)\n",
    "    count += 1"
   ]
  },
  {
   "cell_type": "code",
   "execution_count": 34,
   "metadata": {},
   "outputs": [
    {
     "name": "stdout",
     "output_type": "stream",
     "text": [
      "O dia da semana na posição 0 da lista dias_semana é: segunda-feira\n",
      "O dia da semana na posição 1 da lista dias_semana é: terça-feira\n",
      "O dia da semana na posição 2 da lista dias_semana é: quarta-feira\n",
      "O dia da semana na posição 3 da lista dias_semana é: quinta-feira\n",
      "O dia da semana na posição 4 da lista dias_semana é: sexta-feira\n",
      "O dia da semana na posição 5 da lista dias_semana é: sábado\n",
      "O dia da semana na posição 6 da lista dias_semana é: domingo\n"
     ]
    }
   ],
   "source": [
    "dias_semana = ['segunda-feira', 'terça-feira', 'quarta-feira', 'quinta-feira', 'sexta-feira', 'sábado', 'domingo']\n",
    "i = 0\n",
    "\n",
    "while i < len(dias_semana):\n",
    "    print(f'O dia da semana na posição {i} da lista dias_semana é: {dias_semana[i]}')\n",
    "    i += 1\n",
    "\n"
   ]
  },
  {
   "cell_type": "code",
   "execution_count": 20,
   "metadata": {},
   "outputs": [
    {
     "name": "stdout",
     "output_type": "stream",
     "text": [
      "Registro: 1\n",
      "nome: João\n",
      "cidade: Belo Horizonte\n",
      "\n",
      "Registro: 2\n",
      "nome: Maria\n",
      "cidade: São Paulo\n",
      "\n",
      "Registro: 3\n",
      "nome: Pedro\n",
      "cidade: Curitiba\n",
      "\n",
      "Registro: 4\n",
      "nome: Maria\n",
      "cidade: São Paulo\n",
      "\n"
     ]
    }
   ],
   "source": [
    "# Exemplo de Dicionário\n",
    "pessoas = [{'nome': 'João', 'cidade': 'Belo Horizonte'},\n",
    "           {'nome': 'Maria', 'cidade': 'São Paulo'},\n",
    "           {'nome': 'Pedro', 'cidade': 'Curitiba'},\n",
    "           {'nome': 'Maria', 'cidade': 'São Paulo'}]\n",
    "\n",
    "# uma estrutra de repetição que irá retornar todas as pessoas, enumerando o indice de cada uma delas, além de trazer as informações pela chave usando a função .items()\n",
    "\n",
    "for indice, pessoa in enumerate(pessoas):\n",
    "    print(\"Registro:\", indice+1)\n",
    "    for chave, valor in pessoa.items():\n",
    "        print(chave + \":\", valor)\n",
    "    print()\n"
   ]
  },
  {
   "cell_type": "code",
   "execution_count": null,
   "metadata": {},
   "outputs": [],
   "source": []
  }
 ],
 "metadata": {
  "kernelspec": {
   "display_name": "Python 3",
   "language": "python",
   "name": "python3"
  },
  "language_info": {
   "name": "python",
   "version": "3.11.2"
  },
  "orig_nbformat": 4
 },
 "nbformat": 4,
 "nbformat_minor": 2
}
