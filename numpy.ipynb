{
 "cells": [
  {
   "cell_type": "code",
   "execution_count": 4,
   "metadata": {},
   "outputs": [
    {
     "name": "stdout",
     "output_type": "stream",
     "text": [
      "[[0 0]\n",
      " [0 0]\n",
      " [0 0]]\n",
      "------\n",
      "[[0. 0. 0.]\n",
      " [0. 0. 0.]\n",
      " [0. 0. 0.]\n",
      " [0. 0. 0.]]\n",
      "------\n",
      "[[1. 1. 1. 1. 1. 1. 1.]\n",
      " [1. 1. 1. 1. 1. 1. 1.]\n",
      " [1. 1. 1. 1. 1. 1. 1.]\n",
      " [1. 1. 1. 1. 1. 1. 1.]\n",
      " [1. 1. 1. 1. 1. 1. 1.]]\n",
      "------\n",
      "[[1. 0. 0. 0. 0.]\n",
      " [0. 1. 0. 0. 0.]\n",
      " [0. 0. 1. 0. 0.]\n",
      " [0. 0. 0. 1. 0.]\n",
      " [0. 0. 0. 0. 1.]]\n",
      "------\n"
     ]
    }
   ],
   "source": [
    "import numpy as np\n",
    "\n",
    "vazio = np.empty([3,2], dtype=int)\n",
    "print(vazio)\n",
    "print(\"------\")\n",
    "\n",
    "#uma matriz só com 0\n",
    "#primeiro argumento é linhas e o outro colunas\n",
    "zeros = np.zeros([4,3])\n",
    "print(zeros)\n",
    "print(\"------\")\n",
    "\n",
    "#uma matriz só com um\n",
    "#primeiro argumento é linhas e o outro colunas\n",
    "um = np.ones([5,7])\n",
    "print(um)\n",
    "print(\"------\")\n",
    "\n",
    "#O 5 é a quantidade de colunas e linhas que você vai ter\n",
    "daigonal = np.eye(5)\n",
    "print(daigonal)\n",
    "print(\"------\")"
   ]
  },
  {
   "cell_type": "code",
   "execution_count": 5,
   "metadata": {},
   "outputs": [
    {
     "name": "stdout",
     "output_type": "stream",
     "text": [
      "[0.14304642 0.19536553 0.84344311 0.45431519 0.56859313]\n",
      "------\n",
      "[-0.49523809  1.08224469  1.24676532  0.05244652 -0.64535082]\n",
      "------\n",
      "[[2.53114817 1.36336108 2.50365496 4.0758483 ]\n",
      " [7.73451056 0.74929872 2.43110697 5.75039854]\n",
      " [0.11613974 0.73539113 0.55511864 3.15574734]]\n",
      "------\n"
     ]
    }
   ],
   "source": [
    "#valores aletórios entre zero e um\n",
    "ale = np.random.random((5))\n",
    "print(ale)\n",
    "print(\"------\")\n",
    "\n",
    "#valores aleatórios distr. normal contendo negativos\n",
    "ale2 = np.random.randn((5))\n",
    "print(ale2)\n",
    "print(\"------\")\n",
    "\n",
    "#valores aleatórios 3 x 4\n",
    "ale3 = (10*np.random.random((3,4)))\n",
    "print(ale3)\n",
    "print(\"------\")\n"
   ]
  },
  {
   "cell_type": "code",
   "execution_count": 6,
   "metadata": {},
   "outputs": [
    {
     "name": "stdout",
     "output_type": "stream",
     "text": [
      "[0.51182162 0.9504637  0.14415961]\n",
      "-------\n",
      "[[8 9 2 3]\n",
      " [8 4 2 8]\n",
      " [2 4 6 5]]\n"
     ]
    }
   ],
   "source": [
    " #gerar aleatorio com uso de semente(a semente serve para repetir o código dps e ter o mesmo número dps)\n",
    "gnr = np.random.default_rng(1)\n",
    "ale4 = gnr.random(3)\n",
    "print (ale4)\n",
    "print(\"-------\")\n",
    "\n",
    "ale6 = gnr.integers(10,size=(3,4))\n",
    "print(ale6)"
   ]
  },
  {
   "cell_type": "code",
   "execution_count": 17,
   "metadata": {},
   "outputs": [
    {
     "name": "stdout",
     "output_type": "stream",
     "text": [
      "[[ 0  1  2  3  4]\n",
      " [ 5  6  7  8  9]\n",
      " [10 11 12 13 14]]\n",
      "------\n",
      "[[ 0  5 10]\n",
      " [ 1  6 11]\n",
      " [ 2  7 12]\n",
      " [ 3  8 13]\n",
      " [ 4  9 14]]\n"
     ]
    },
    {
     "data": {
      "text/plain": [
       "'\\nOutra forma de fazer\\n#função T faz essa tranformação\\ns = f.T\\nprint(s)\\n'"
      ]
     },
     "execution_count": 17,
     "metadata": {},
     "output_type": "execute_result"
    }
   ],
   "source": [
    "# transformar linhas em colunas \n",
    "f = np.arange(15).reshape((3,5))\n",
    "print(f)\n",
    "print('------')\n",
    "\n",
    "s = f.transpose((1,0))\n",
    "print(s)\n",
    "\n",
    "\"\"\"\n",
    "Outra forma de fazer e mais fácil\n",
    "#função T faz essa tranformação\n",
    "s = f.T\n",
    "print(s)\n",
    "\"\"\""
   ]
  },
  {
   "cell_type": "code",
   "execution_count": 22,
   "metadata": {},
   "outputs": [
    {
     "name": "stdout",
     "output_type": "stream",
     "text": [
      "[[ 1.91698094  0.47441416 -0.03565648 -0.99118639]\n",
      " [ 0.00695618  0.47813118 -1.32280675  1.38509754]\n",
      " [-1.1541211  -2.29245296  1.57193345  1.48923509]\n",
      " [-0.56845614  0.19596067 -0.49506013 -0.04735005]]\n",
      "[[ True  True False False]\n",
      " [ True  True False  True]\n",
      " [False False  True  True]\n",
      " [False  True False False]]\n",
      "[[ 1  1 -1 -1]\n",
      " [ 1  1 -1  1]\n",
      " [-1 -1  1  1]\n",
      " [-1  1 -1 -1]]\n"
     ]
    }
   ],
   "source": [
    "#outras formas de utilizar lógica com numpy\n",
    "v = np.random.randn(4,4)\n",
    "print(v)\n",
    "\n",
    "x = (v > 0)\n",
    "print(x)\n",
    "\n",
    "z = np.where(x>0,1,-1)\n",
    "print(z)"
   ]
  }
 ],
 "metadata": {
  "kernelspec": {
   "display_name": "Python 3",
   "language": "python",
   "name": "python3"
  },
  "language_info": {
   "codemirror_mode": {
    "name": "ipython",
    "version": 3
   },
   "file_extension": ".py",
   "mimetype": "text/x-python",
   "name": "python",
   "nbconvert_exporter": "python",
   "pygments_lexer": "ipython3",
   "version": "3.11.2"
  },
  "orig_nbformat": 4
 },
 "nbformat": 4,
 "nbformat_minor": 2
}
