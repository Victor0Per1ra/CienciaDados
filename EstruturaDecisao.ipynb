{
 "cells": [
  {
   "cell_type": "code",
   "execution_count": 1,
   "metadata": {},
   "outputs": [
    {
     "name": "stdout",
     "output_type": "stream",
     "text": [
      "Booooa\n"
     ]
    }
   ],
   "source": [
    "#Exemplo de um if simples\n",
    "nota = 7\n",
    "if nota >= 7:\n",
    "    print(\"Booooa\")\n",
    "else:\n",
    "    print(\"xiiii\")"
   ]
  },
  {
   "cell_type": "code",
   "execution_count": 5,
   "metadata": {},
   "outputs": [
    {
     "name": "stdout",
     "output_type": "stream",
     "text": [
      "se fudeu\n"
     ]
    }
   ],
   "source": [
    "#Exemplo de elif\n",
    "nota = 3\n",
    "if nota >= 7:\n",
    "    print(\"Booooa\")\n",
    "elif nota < 7 and nota >= 4 :\n",
    "    print(\"xiiii\")\n",
    "else :\n",
    "    print(\"se fudeu\")"
   ]
  },
  {
   "cell_type": "code",
   "execution_count": null,
   "metadata": {},
   "outputs": [],
   "source": []
  }
 ],
 "metadata": {
  "kernelspec": {
   "display_name": "Python 3",
   "language": "python",
   "name": "python3"
  },
  "language_info": {
   "codemirror_mode": {
    "name": "ipython",
    "version": 3
   },
   "file_extension": ".py",
   "mimetype": "text/x-python",
   "name": "python",
   "nbconvert_exporter": "python",
   "pygments_lexer": "ipython3",
   "version": "3.11.2"
  },
  "orig_nbformat": 4
 },
 "nbformat": 4,
 "nbformat_minor": 2
}
