{
 "cells": [
  {
   "cell_type": "code",
   "execution_count": 2,
   "metadata": {},
   "outputs": [
    {
     "name": "stdout",
     "output_type": "stream",
     "text": [
      "<class 'tuple'>\n"
     ]
    }
   ],
   "source": [
    "livro = (\"Aventuras Incríveis\", (\"Autor Anônimo\", 2023), [\"Ação\", \"Aventura\"])\n",
    "\n",
    "print (type(livro))"
   ]
  },
  {
   "cell_type": "code",
   "execution_count": 8,
   "metadata": {},
   "outputs": [
    {
     "name": "stdout",
     "output_type": "stream",
     "text": [
      "O elemento 8 foi encontrado no índice 2.\n"
     ]
    }
   ],
   "source": [
    "def busca_linear(lista, elemento):\n",
    "    for i, item in enumerate(lista):\n",
    "        if item == elemento:\n",
    "            return i  # Retorna o índice onde o elemento foi encontrado\n",
    "    return -1  # Retorna -1 se o elemento não foi encontrado\n",
    "\n",
    "# Exemplo de uso\n",
    "numeros = [4, 2, 8, 6, 5, 1, 7, 3]\n",
    "elemento_procurado = 8\n",
    "\n",
    "indice = busca_linear(numeros, elemento_procurado)\n",
    "\n",
    "if indice != -1:\n",
    "    print(f\"O elemento {elemento_procurado} foi encontrado no índice {indice}.\")\n",
    "else:\n",
    "    print(f\"O elemento {elemento_procurado} não foi encontrado na lista.\")"
   ]
  },
  {
   "cell_type": "code",
   "execution_count": 7,
   "metadata": {},
   "outputs": [
    {
     "name": "stdout",
     "output_type": "stream",
     "text": [
      "O elemento 8 foi encontrado no índice 7.\n"
     ]
    }
   ],
   "source": [
    "def busca_binaria(lista, elemento):\n",
    "    esquerda, direita = 0, len(lista) - 1\n",
    "\n",
    "    while esquerda <= direita:\n",
    "        meio = (esquerda + direita) // 2\n",
    "\n",
    "        if lista[meio] == elemento:\n",
    "            return meio  # Retorna o índice onde o elemento foi encontrado\n",
    "        elif lista[meio] < elemento:\n",
    "            esquerda = meio + 1\n",
    "        else:\n",
    "            direita = meio - 1\n",
    "\n",
    "    return -1  # Retorna -1 se o elemento não foi encontrado\n",
    "\n",
    "# Exemplo de uso\n",
    "numeros_ordenados = [1, 2, 3, 4, 5, 6, 7, 8]\n",
    "elemento_procurado = 8\n",
    "\n",
    "indice = busca_binaria(numeros_ordenados, elemento_procurado)\n",
    "\n",
    "if indice != -1:\n",
    "    print(f\"O elemento {elemento_procurado} foi encontrado no índice {indice}.\")\n",
    "else:\n",
    "    print(f\"O elemento {elemento_procurado} não foi encontrado na lista.\")\n"
   ]
  },
  {
   "cell_type": "code",
   "execution_count": 1,
   "metadata": {},
   "outputs": [],
   "source": [
    "def executar_busca_binaria(lista , valor):\n",
    "    minimo = 0\n",
    "    maximo = len(lista) - 1\n",
    "\n",
    "    while minimo <= maximo:\n",
    "        #encontra o elemento do meio\n",
    "        meio = (minimo + maximo) // 2\n",
    "        #Verifica se o valor está a esquerda ou direita do valor central\n",
    "        if valor < lista[meio]:\n",
    "            maximo = meio -1 \n",
    "        elif valor > lista[meio]:\n",
    "            minimo = meio + 1\n",
    "        else:\n",
    "           return True # se o valor for encontrado\n",
    "         \n",
    "        return False #Não existe dentro da lista.\n",
    "        "
   ]
  },
  {
   "cell_type": "code",
   "execution_count": 18,
   "metadata": {},
   "outputs": [
    {
     "name": "stdout",
     "output_type": "stream",
     "text": [
      "victor, seu IMC é 25.62\n"
     ]
    }
   ],
   "source": [
    "\"\"\" \n",
    "## Modo para criar a calculadora dentro da classe pessoa ##\n",
    "class Pessoa:\n",
    "    def __init__(self, nome, altura, peso):\n",
    "        self.nome = nome\n",
    "        self.altura = float(altura)\n",
    "        self.peso = float(peso)\n",
    "\n",
    "    def calculadoraIMC(self):\n",
    "        imc = self.peso / (self.altura ** 2)\n",
    "        return f'{self.nome}, seu IMC é de {imc:.2f}'\n",
    "\n",
    "p1 = Pessoa('victor', 1.69, 69)\n",
    "print(p1.calculadoraIMC())\n",
    "\"\"\"\n",
    "## Modo para criar a calculadora fora da classe e chamando as informações da classe\n",
    "class Pessoa:\n",
    "    def __init__(self, nome, altura, peso):\n",
    "        self.nome = nome\n",
    "        self.altura = float(altura)\n",
    "        self.peso = float(peso)\n",
    "\n",
    "#Crio a calculadora é o parametro é a classe Pessoa\n",
    "def calculadoraIMC(pessoa):\n",
    "    imc = pessoa.peso / (pessoa.altura ** 2)\n",
    "    return f'{pessoa.nome}, seu IMC é {imc:.2f}'\n",
    "\n",
    "p1 = Pessoa('victor', 1.80, 83)\n",
    "resultado_imc = calculadoraIMC(p1)\n",
    "print(resultado_imc)\n"
   ]
  },
  {
   "cell_type": "code",
   "execution_count": 4,
   "metadata": {},
   "outputs": [
    {
     "name": "stdout",
     "output_type": "stream",
     "text": [
      "       nome\n",
      "0  Flamengo\n",
      "1         é\n",
      "2         o\n",
      "3     maior\n",
      "<class 'pandas.core.frame.DataFrame'>\n",
      "RangeIndex: 4 entries, 0 to 3\n",
      "Data columns (total 2 columns):\n",
      " #   Column         Non-Null Count  Dtype         \n",
      "---  ------         --------------  -----         \n",
      " 0   nome           4 non-null      object        \n",
      " 1   data_extracao  4 non-null      datetime64[ns]\n",
      "dtypes: datetime64[ns](1), object(1)\n",
      "memory usage: 196.0+ bytes\n",
      "None\n"
     ]
    },
    {
     "data": {
      "text/html": [
       "<div>\n",
       "<style scoped>\n",
       "    .dataframe tbody tr th:only-of-type {\n",
       "        vertical-align: middle;\n",
       "    }\n",
       "\n",
       "    .dataframe tbody tr th {\n",
       "        vertical-align: top;\n",
       "    }\n",
       "\n",
       "    .dataframe thead th {\n",
       "        text-align: right;\n",
       "    }\n",
       "</style>\n",
       "<table border=\"1\" class=\"dataframe\">\n",
       "  <thead>\n",
       "    <tr style=\"text-align: right;\">\n",
       "      <th></th>\n",
       "      <th>nome</th>\n",
       "      <th>data_extracao</th>\n",
       "    </tr>\n",
       "  </thead>\n",
       "  <tbody>\n",
       "    <tr>\n",
       "      <th>0</th>\n",
       "      <td>Flamengo</td>\n",
       "      <td>2023-08-25</td>\n",
       "    </tr>\n",
       "    <tr>\n",
       "      <th>1</th>\n",
       "      <td>é</td>\n",
       "      <td>2023-08-25</td>\n",
       "    </tr>\n",
       "    <tr>\n",
       "      <th>2</th>\n",
       "      <td>o</td>\n",
       "      <td>2023-08-25</td>\n",
       "    </tr>\n",
       "    <tr>\n",
       "      <th>3</th>\n",
       "      <td>maior</td>\n",
       "      <td>2023-08-25</td>\n",
       "    </tr>\n",
       "  </tbody>\n",
       "</table>\n",
       "</div>"
      ],
      "text/plain": [
       "       nome data_extracao\n",
       "0  Flamengo    2023-08-25\n",
       "1         é    2023-08-25\n",
       "2         o    2023-08-25\n",
       "3     maior    2023-08-25"
      ]
     },
     "execution_count": 4,
     "metadata": {},
     "output_type": "execute_result"
    }
   ],
   "source": [
    "\n",
    "import pandas as pd\n",
    "from datetime import date\n",
    "from datetime import datetime as dt\n",
    "\n",
    "lista_nomes = 'Flamengo é o maior'.split()\n",
    "\n",
    "df= pd.DataFrame(lista_nomes, columns=['nome'])\n",
    "print(pd.DataFrame(lista_nomes,columns=['nome']))\n",
    "\n",
    "data_extracao = date.today()\n",
    "df['data_extracao'] = data_extracao\n",
    "df['data_extracao'] = df['data_extracao'].astype('datetime64[ns]')\n",
    "\n",
    "\n",
    "print(df.info())\n",
    "df.head()\n"
   ]
  },
  {
   "cell_type": "code",
   "execution_count": null,
   "metadata": {},
   "outputs": [],
   "source": []
  }
 ],
 "metadata": {
  "kernelspec": {
   "display_name": "Python 3",
   "language": "python",
   "name": "python3"
  },
  "language_info": {
   "codemirror_mode": {
    "name": "ipython",
    "version": 3
   },
   "file_extension": ".py",
   "mimetype": "text/x-python",
   "name": "python",
   "nbconvert_exporter": "python",
   "pygments_lexer": "ipython3",
   "version": "3.11.2"
  },
  "orig_nbformat": 4
 },
 "nbformat": 4,
 "nbformat_minor": 2
}
