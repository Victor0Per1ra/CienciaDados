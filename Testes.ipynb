{
 "cells": [
  {
   "cell_type": "code",
   "execution_count": 4,
   "metadata": {},
   "outputs": [
    {
     "ename": "ValueError",
     "evalue": "invalid literal for int() with base 10: 'sair'",
     "output_type": "error",
     "traceback": [
      "\u001b[1;31m---------------------------------------------------------------------------\u001b[0m",
      "\u001b[1;31mValueError\u001b[0m                                Traceback (most recent call last)",
      "\u001b[1;32mc:\\Users\\VICTOR.SOUSA\\OneDrive - NISA CAOA CHERY RIO VERDE COMERCIAL DE VEICULOS AU\\Área de Trabalho\\Study\\CienciaDados\\Testes.ipynb Cell 1\u001b[0m line \u001b[0;36m7\n\u001b[0;32m      <a href='vscode-notebook-cell:/c%3A/Users/VICTOR.SOUSA/OneDrive%20-%20NISA%20CAOA%20CHERY%20RIO%20VERDE%20COMERCIAL%20DE%20VEICULOS%20AU/%C3%81rea%20de%20Trabalho/Study/CienciaDados/Testes.ipynb#W0sZmlsZQ%3D%3D?line=3'>4</a>\u001b[0m     \u001b[39melse\u001b[39;00m:\n\u001b[0;32m      <a href='vscode-notebook-cell:/c%3A/Users/VICTOR.SOUSA/OneDrive%20-%20NISA%20CAOA%20CHERY%20RIO%20VERDE%20COMERCIAL%20DE%20VEICULOS%20AU/%C3%81rea%20de%20Trabalho/Study/CienciaDados/Testes.ipynb#W0sZmlsZQ%3D%3D?line=4'>5</a>\u001b[0m         \u001b[39mprint\u001b[39m(\u001b[39m\"\u001b[39m\u001b[39mxiiiii\u001b[39m\u001b[39m\"\u001b[39m)\n\u001b[1;32m----> <a href='vscode-notebook-cell:/c%3A/Users/VICTOR.SOUSA/OneDrive%20-%20NISA%20CAOA%20CHERY%20RIO%20VERDE%20COMERCIAL%20DE%20VEICULOS%20AU/%C3%81rea%20de%20Trabalho/Study/CienciaDados/Testes.ipynb#W0sZmlsZQ%3D%3D?line=6'>7</a>\u001b[0m qtde_faltas \u001b[39m=\u001b[39m \u001b[39mint\u001b[39;49m(\u001b[39minput\u001b[39;49m(\u001b[39m\"\u001b[39;49m\u001b[39mDigite a quantidade de faltas: \u001b[39;49m\u001b[39m\"\u001b[39;49m))\n\u001b[0;32m      <a href='vscode-notebook-cell:/c%3A/Users/VICTOR.SOUSA/OneDrive%20-%20NISA%20CAOA%20CHERY%20RIO%20VERDE%20COMERCIAL%20DE%20VEICULOS%20AU/%C3%81rea%20de%20Trabalho/Study/CienciaDados/Testes.ipynb#W0sZmlsZQ%3D%3D?line=7'>8</a>\u001b[0m media_final \u001b[39m=\u001b[39m \u001b[39mfloat\u001b[39m(\u001b[39minput\u001b[39m(\u001b[39m\"\u001b[39m\u001b[39mDigite a média final: \u001b[39m\u001b[39m\"\u001b[39m))\n\u001b[0;32m     <a href='vscode-notebook-cell:/c%3A/Users/VICTOR.SOUSA/OneDrive%20-%20NISA%20CAOA%20CHERY%20RIO%20VERDE%20COMERCIAL%20DE%20VEICULOS%20AU/%C3%81rea%20de%20Trabalho/Study/CienciaDados/Testes.ipynb#W0sZmlsZQ%3D%3D?line=9'>10</a>\u001b[0m resultado_final(qtde_faltas, media_final)\n",
      "\u001b[1;31mValueError\u001b[0m: invalid literal for int() with base 10: 'sair'"
     ]
    }
   ],
   "source": [
    "def resultado_final(qtde_faltas, media_final):\n",
    "    if qtde_faltas < 5 and media_final > 6.0:\n",
    "        print(\"Passouuuuu\")\n",
    "    else:\n",
    "        print(\"xiiiii\")\n",
    "\n",
    "qtde_faltas = int(input(\"Digite a quantidade de faltas: \"))\n",
    "media_final = float(input(\"Digite a média final: \"))\n",
    "\n",
    "resultado_final(qtde_faltas, media_final)\n"
   ]
  },
  {
   "cell_type": "code",
   "execution_count": null,
   "metadata": {},
   "outputs": [
    {
     "name": "stdout",
     "output_type": "stream",
     "text": [
      "Números originais: [1, 2, 3, 4, 5, 6, 7, 8, 9, 10]\n",
      "Quadrados: [1, 4, 9, 16, 25, 36, 49, 64, 81, 100]\n"
     ]
    }
   ],
   "source": [
    "def calcular_quadrados(lista_numeros):\n",
    "    quadrados = []\n",
    "    for numero in lista_numeros:\n",
    "        quadrado = numero ** 2\n",
    "\t\t\t\t#Adicionando o valor calculado na lista\n",
    "        quadrados.append(quadrado)\n",
    "    return quadrados\n",
    "\n",
    "# Exemplo de utilização\n",
    "lista_numeros = [1, 2, 3, 4, 5, 6, 7, 8, 9, 10]\n",
    "quadrados = calcular_quadrados(lista_numeros)\n",
    "\n",
    "print(\"Números originais:\", lista_numeros)\n",
    "print(\"Quadrados:\", quadrados)"
   ]
  },
  {
   "cell_type": "code",
   "execution_count": null,
   "metadata": {},
   "outputs": [
    {
     "name": "stdout",
     "output_type": "stream",
     "text": [
      "Calculadora Simples\n",
      "Digite 'sair' para encerrar o programa.\n",
      "Resultado: 30.0\n",
      "--------------------\n",
      "Encerrando a calculadora.\n"
     ]
    }
   ],
   "source": [
    "def calculadora():\n",
    "    print(\"Calculadora Simples\")\n",
    "    print(\"Digite 'sair' para encerrar o programa.\")\n",
    "\n",
    "    while True:\n",
    "        operacao = input(\"Digite a operação (+, -, *, /): \")\n",
    "\n",
    "        if operacao.lower() == 'sair':\n",
    "            print(\"Encerrando a calculadora.\")\n",
    "            break\n",
    "\n",
    "        if operacao not in ['+', '-', '*', '/']:\n",
    "            print(\"Operação inválida. Tente novamente.\")\n",
    "            continue\n",
    "\n",
    "        numero1 = float(input(\"Digite o primeiro número: \"))\n",
    "        numero2 = float(input(\"Digite o segundo número: \"))\n",
    "\n",
    "        if operacao == '+':\n",
    "            resultado = numero1 + numero2\n",
    "        elif operacao == '-':\n",
    "            resultado = numero1 - numero2\n",
    "        elif operacao == '*':\n",
    "            resultado = numero1 * numero2\n",
    "        elif operacao == '/':\n",
    "            if numero2 == 0:\n",
    "                print(\"Erro: divisão por zero.\")\n",
    "                continue\n",
    "            resultado = numero1 / numero2\n",
    "\n",
    "        print(\"Resultado:\", resultado)\n",
    "        print(\"--------------------\")\n",
    "\n",
    "# Executando a calculadora\n",
    "calculadora()\n"
   ]
  },
  {
   "cell_type": "code",
   "execution_count": 5,
   "metadata": {},
   "outputs": [],
   "source": [
    "import pandas as pd\n",
    "import seaborn as sns\n",
    "import matplotlib.pyplot as plt"
   ]
  },
  {
   "cell_type": "code",
   "execution_count": 15,
   "metadata": {},
   "outputs": [],
   "source": [
    "dados = {'Periodo': ['Jan', 'Jan', 'Fev', 'Mar', 'Abr', 'Mai'],\n",
    "         'Salario': [5000, 5,5500, 6000, 5800, 6200]}\n",
    "\n",
    "df = pd.DataFrame(dados)"
   ]
  },
  {
   "cell_type": "code",
   "execution_count": 22,
   "metadata": {},
   "outputs": [
    {
     "ename": "AttributeError",
     "evalue": "'bool' object has no attribute 'all'",
     "output_type": "error",
     "traceback": [
      "\u001b[1;31m---------------------------------------------------------------------------\u001b[0m",
      "\u001b[1;31mAttributeError\u001b[0m                            Traceback (most recent call last)",
      "\u001b[1;32mc:\\Users\\VICTOR.SOUSA\\OneDrive - NISA CAOA CHERY RIO VERDE COMERCIAL DE VEICULOS AU\\Área de Trabalho\\Study\\CienciaDados\\Testes.ipynb Cell 6\u001b[0m line \u001b[0;36m2\n\u001b[0;32m     <a href='vscode-notebook-cell:/c%3A/Users/VICTOR.SOUSA/OneDrive%20-%20NISA%20CAOA%20CHERY%20RIO%20VERDE%20COMERCIAL%20DE%20VEICULOS%20AU/%C3%81rea%20de%20Trabalho/Study/CienciaDados/Testes.ipynb#W5sZmlsZQ%3D%3D?line=16'>17</a>\u001b[0m total_salarios \u001b[39m=\u001b[39m df[\u001b[39m'\u001b[39m\u001b[39mSalario\u001b[39m\u001b[39m'\u001b[39m]\u001b[39m.\u001b[39msum()\n\u001b[0;32m     <a href='vscode-notebook-cell:/c%3A/Users/VICTOR.SOUSA/OneDrive%20-%20NISA%20CAOA%20CHERY%20RIO%20VERDE%20COMERCIAL%20DE%20VEICULOS%20AU/%C3%81rea%20de%20Trabalho/Study/CienciaDados/Testes.ipynb#W5sZmlsZQ%3D%3D?line=18'>19</a>\u001b[0m \u001b[39m# Criação do gráfico de barras usando Seaborn\u001b[39;00m\n\u001b[1;32m---> <a href='vscode-notebook-cell:/c%3A/Users/VICTOR.SOUSA/OneDrive%20-%20NISA%20CAOA%20CHERY%20RIO%20VERDE%20COMERCIAL%20DE%20VEICULOS%20AU/%C3%81rea%20de%20Trabalho/Study/CienciaDados/Testes.ipynb#W5sZmlsZQ%3D%3D?line=19'>20</a>\u001b[0m ax \u001b[39m=\u001b[39m sns\u001b[39m.\u001b[39;49mbarplot(x\u001b[39m=\u001b[39;49m\u001b[39m'\u001b[39;49m\u001b[39mPeriodo\u001b[39;49m\u001b[39m'\u001b[39;49m, y\u001b[39m=\u001b[39;49mtotal_salarios, data\u001b[39m=\u001b[39;49mdf, palette\u001b[39m=\u001b[39;49m\u001b[39m'\u001b[39;49m\u001b[39mBlues_d\u001b[39;49m\u001b[39m'\u001b[39;49m)\n\u001b[0;32m     <a href='vscode-notebook-cell:/c%3A/Users/VICTOR.SOUSA/OneDrive%20-%20NISA%20CAOA%20CHERY%20RIO%20VERDE%20COMERCIAL%20DE%20VEICULOS%20AU/%C3%81rea%20de%20Trabalho/Study/CienciaDados/Testes.ipynb#W5sZmlsZQ%3D%3D?line=21'>22</a>\u001b[0m \u001b[39m# Adiciona anotações (valores) acima das barras\u001b[39;00m\n\u001b[0;32m     <a href='vscode-notebook-cell:/c%3A/Users/VICTOR.SOUSA/OneDrive%20-%20NISA%20CAOA%20CHERY%20RIO%20VERDE%20COMERCIAL%20DE%20VEICULOS%20AU/%C3%81rea%20de%20Trabalho/Study/CienciaDados/Testes.ipynb#W5sZmlsZQ%3D%3D?line=22'>23</a>\u001b[0m \u001b[39mfor\u001b[39;00m p \u001b[39min\u001b[39;00m ax\u001b[39m.\u001b[39mpatches:\n",
      "File \u001b[1;32mc:\\Users\\VICTOR.SOUSA\\AppData\\Local\\Programs\\Python\\Python311\\Lib\\site-packages\\seaborn\\categorical.py:2755\u001b[0m, in \u001b[0;36mbarplot\u001b[1;34m(data, x, y, hue, order, hue_order, estimator, errorbar, n_boot, units, seed, orient, color, palette, saturation, width, errcolor, errwidth, capsize, dodge, ci, ax, **kwargs)\u001b[0m\n\u001b[0;32m   2752\u001b[0m \u001b[39mif\u001b[39;00m estimator \u001b[39mis\u001b[39;00m \u001b[39mlen\u001b[39m:\n\u001b[0;32m   2753\u001b[0m     estimator \u001b[39m=\u001b[39m \u001b[39m\"\u001b[39m\u001b[39msize\u001b[39m\u001b[39m\"\u001b[39m\n\u001b[1;32m-> 2755\u001b[0m plotter \u001b[39m=\u001b[39m _BarPlotter(x, y, hue, data, order, hue_order,\n\u001b[0;32m   2756\u001b[0m                       estimator, errorbar, n_boot, units, seed,\n\u001b[0;32m   2757\u001b[0m                       orient, color, palette, saturation,\n\u001b[0;32m   2758\u001b[0m                       width, errcolor, errwidth, capsize, dodge)\n\u001b[0;32m   2760\u001b[0m \u001b[39mif\u001b[39;00m ax \u001b[39mis\u001b[39;00m \u001b[39mNone\u001b[39;00m:\n\u001b[0;32m   2761\u001b[0m     ax \u001b[39m=\u001b[39m plt\u001b[39m.\u001b[39mgca()\n",
      "File \u001b[1;32mc:\\Users\\VICTOR.SOUSA\\AppData\\Local\\Programs\\Python\\Python311\\Lib\\site-packages\\seaborn\\categorical.py:1530\u001b[0m, in \u001b[0;36m_BarPlotter.__init__\u001b[1;34m(self, x, y, hue, data, order, hue_order, estimator, errorbar, n_boot, units, seed, orient, color, palette, saturation, width, errcolor, errwidth, capsize, dodge)\u001b[0m\n\u001b[0;32m   1525\u001b[0m \u001b[39mdef\u001b[39;00m \u001b[39m__init__\u001b[39m(\u001b[39mself\u001b[39m, x, y, hue, data, order, hue_order,\n\u001b[0;32m   1526\u001b[0m              estimator, errorbar, n_boot, units, seed,\n\u001b[0;32m   1527\u001b[0m              orient, color, palette, saturation, width,\n\u001b[0;32m   1528\u001b[0m              errcolor, errwidth, capsize, dodge):\n\u001b[0;32m   1529\u001b[0m \u001b[39m    \u001b[39m\u001b[39m\"\"\"Initialize the plotter.\"\"\"\u001b[39;00m\n\u001b[1;32m-> 1530\u001b[0m     \u001b[39mself\u001b[39;49m\u001b[39m.\u001b[39;49mestablish_variables(x, y, hue, data, orient,\n\u001b[0;32m   1531\u001b[0m                              order, hue_order, units)\n\u001b[0;32m   1532\u001b[0m     \u001b[39mself\u001b[39m\u001b[39m.\u001b[39mestablish_colors(color, palette, saturation)\n\u001b[0;32m   1533\u001b[0m     \u001b[39mself\u001b[39m\u001b[39m.\u001b[39mestimate_statistic(estimator, errorbar, n_boot, seed)\n",
      "File \u001b[1;32mc:\\Users\\VICTOR.SOUSA\\AppData\\Local\\Programs\\Python\\Python311\\Lib\\site-packages\\seaborn\\categorical.py:544\u001b[0m, in \u001b[0;36m_CategoricalPlotter.establish_variables\u001b[1;34m(self, x, y, hue, data, orient, order, hue_order, units)\u001b[0m\n\u001b[0;32m    541\u001b[0m         \u001b[39mraise\u001b[39;00m \u001b[39mValueError\u001b[39;00m(err)\n\u001b[0;32m    543\u001b[0m \u001b[39m# Figure out the plotting orientation\u001b[39;00m\n\u001b[1;32m--> 544\u001b[0m orient \u001b[39m=\u001b[39m infer_orient(\n\u001b[0;32m    545\u001b[0m     x, y, orient, require_numeric\u001b[39m=\u001b[39;49m\u001b[39mself\u001b[39;49m\u001b[39m.\u001b[39;49mrequire_numeric\n\u001b[0;32m    546\u001b[0m )\n\u001b[0;32m    548\u001b[0m \u001b[39m# Option 2a:\u001b[39;00m\n\u001b[0;32m    549\u001b[0m \u001b[39m# We are plotting a single set of data\u001b[39;00m\n\u001b[0;32m    550\u001b[0m \u001b[39m# ------------------------------------\u001b[39;00m\n\u001b[0;32m    551\u001b[0m \u001b[39mif\u001b[39;00m x \u001b[39mis\u001b[39;00m \u001b[39mNone\u001b[39;00m \u001b[39mor\u001b[39;00m y \u001b[39mis\u001b[39;00m \u001b[39mNone\u001b[39;00m:\n\u001b[0;32m    552\u001b[0m \n\u001b[0;32m    553\u001b[0m     \u001b[39m# Determine where the data are\u001b[39;00m\n",
      "File \u001b[1;32mc:\\Users\\VICTOR.SOUSA\\AppData\\Local\\Programs\\Python\\Python311\\Lib\\site-packages\\seaborn\\_oldcore.py:1585\u001b[0m, in \u001b[0;36minfer_orient\u001b[1;34m(x, y, orient, require_numeric)\u001b[0m\n\u001b[0;32m   1557\u001b[0m \u001b[39m\u001b[39m\u001b[39m\"\"\"Determine how the plot should be oriented based on the data.\u001b[39;00m\n\u001b[0;32m   1558\u001b[0m \n\u001b[0;32m   1559\u001b[0m \u001b[39mFor historical reasons, the convention is to call a plot \"horizontally\"\u001b[39;00m\n\u001b[1;32m   (...)\u001b[0m\n\u001b[0;32m   1581\u001b[0m \n\u001b[0;32m   1582\u001b[0m \u001b[39m\"\"\"\u001b[39;00m\n\u001b[0;32m   1584\u001b[0m x_type \u001b[39m=\u001b[39m \u001b[39mNone\u001b[39;00m \u001b[39mif\u001b[39;00m x \u001b[39mis\u001b[39;00m \u001b[39mNone\u001b[39;00m \u001b[39melse\u001b[39;00m variable_type(x)\n\u001b[1;32m-> 1585\u001b[0m y_type \u001b[39m=\u001b[39m \u001b[39mNone\u001b[39;00m \u001b[39mif\u001b[39;00m y \u001b[39mis\u001b[39;00m \u001b[39mNone\u001b[39;00m \u001b[39melse\u001b[39;00m variable_type(y)\n\u001b[0;32m   1587\u001b[0m nonnumeric_dv_error \u001b[39m=\u001b[39m \u001b[39m\"\u001b[39m\u001b[39m{}\u001b[39;00m\u001b[39m orientation requires numeric `\u001b[39m\u001b[39m{}\u001b[39;00m\u001b[39m` variable.\u001b[39m\u001b[39m\"\u001b[39m\n\u001b[0;32m   1588\u001b[0m single_var_warning \u001b[39m=\u001b[39m \u001b[39m\"\u001b[39m\u001b[39m{}\u001b[39;00m\u001b[39m orientation ignored with only `\u001b[39m\u001b[39m{}\u001b[39;00m\u001b[39m` specified.\u001b[39m\u001b[39m\"\u001b[39m\n",
      "File \u001b[1;32mc:\\Users\\VICTOR.SOUSA\\AppData\\Local\\Programs\\Python\\Python311\\Lib\\site-packages\\seaborn\\_oldcore.py:1502\u001b[0m, in \u001b[0;36mvariable_type\u001b[1;34m(vector, boolean_type)\u001b[0m\n\u001b[0;32m   1499\u001b[0m     \u001b[39mreturn\u001b[39;00m VariableType(\u001b[39m\"\u001b[39m\u001b[39mcategorical\u001b[39m\u001b[39m\"\u001b[39m)\n\u001b[0;32m   1501\u001b[0m \u001b[39m# Special-case all-na data, which is always \"numeric\"\u001b[39;00m\n\u001b[1;32m-> 1502\u001b[0m \u001b[39mif\u001b[39;00m pd\u001b[39m.\u001b[39;49misna(vector)\u001b[39m.\u001b[39;49mall():\n\u001b[0;32m   1503\u001b[0m     \u001b[39mreturn\u001b[39;00m VariableType(\u001b[39m\"\u001b[39m\u001b[39mnumeric\u001b[39m\u001b[39m\"\u001b[39m)\n\u001b[0;32m   1505\u001b[0m \u001b[39m# Special-case binary/boolean data, allow caller to determine\u001b[39;00m\n\u001b[0;32m   1506\u001b[0m \u001b[39m# This triggers a numpy warning when vector has strings/objects\u001b[39;00m\n\u001b[0;32m   1507\u001b[0m \u001b[39m# https://github.com/numpy/numpy/issues/6784\u001b[39;00m\n\u001b[1;32m   (...)\u001b[0m\n\u001b[0;32m   1511\u001b[0m \u001b[39m# https://github.com/numpy/numpy/issues/13548\u001b[39;00m\n\u001b[0;32m   1512\u001b[0m \u001b[39m# This is considered a bug by numpy and will likely go away.\u001b[39;00m\n",
      "\u001b[1;31mAttributeError\u001b[0m: 'bool' object has no attribute 'all'"
     ]
    },
    {
     "data": {
      "text/plain": [
       "<Figure size 1000x600 with 0 Axes>"
      ]
     },
     "metadata": {},
     "output_type": "display_data"
    }
   ],
   "source": [
    "import seaborn as sns\n",
    "import matplotlib.pyplot as plt\n",
    "import pandas as pd\n",
    "\n",
    "dados = {'Periodo': ['Jan', 'Jan', 'Fev', 'Mar', 'Abr', 'Mai'],\n",
    "         'Salario': [5000, 5,5500, 6000, 5800, 6200]}\n",
    "\n",
    "df = pd.DataFrame(dados)\n",
    "\n",
    "# Define o estilo do gráfico\n",
    "sns.set(style='whitegrid')\n",
    "\n",
    "# Cria uma figura do Matplotlib com tamanho 10x6 polegadas\n",
    "plt.figure(figsize=(10, 6))\n",
    "\n",
    "# Calcula a soma dos salários no DataFrame df\n",
    "total_salarios = df['Salario'].sum()\n",
    "\n",
    "# Criação do gráfico de barras usando Seaborn\n",
    "ax = sns.barplot(x='Periodo', y=total_salarios, data=df, palette='Blues_d')\n",
    "\n",
    "# Adiciona anotações (valores) acima das barras\n",
    "for p in ax.patches:\n",
    "    ax.annotate(format(p.get_height(), '.2f'), \n",
    "                (p.get_x() + p.get_width() / 2., p.get_height()), \n",
    "                ha='center', va='center', \n",
    "                xytext=(0, 10), \n",
    "                textcoords='offset points')\n",
    "\n",
    "# Define o título do gráfico\n",
    "plt.title('Gráfico de Salário por Período')\n",
    "\n",
    "# Define os rótulos dos eixos x e y\n",
    "plt.xlabel('Período')\n",
    "plt.ylabel('Salário')\n",
    "\n",
    "# Exibe o gráfico\n",
    "plt.show()\n",
    "\n"
   ]
  },
  {
   "cell_type": "code",
   "execution_count": null,
   "metadata": {},
   "outputs": [
    {
     "name": "stdout",
     "output_type": "stream",
     "text": [
      "25104128675558732292929443748812027705165520269876079766872595193901106138220937419666018009000254169376172314360982328660708071123369979853445367910653872383599704355532740937678091491429440864316046925074510134847025546014098005907965541041195496105311886173373435145517193282760847755882291690213539123479186274701519396808504940722607033001246328398800550487427999876690416973437861078185344667966871511049653888130136836199010529180056125844549488648617682915826347564148990984138067809999604687488146734837340699359838791124995957584538873616661533093253551256845056046388738129702951381151861413688922986510005440943943014699244112555755279140760492764253740250410391056421979003289600000000000000000000000000000000000000000000000000000000000000000000000000000000000000000\n"
     ]
    }
   ],
   "source": [
    "import math\n",
    "n = 365\n",
    "factorial = math.factorial(n)\n",
    "\n",
    "print(abs(factorial))"
   ]
  },
  {
   "cell_type": "code",
   "execution_count": 2,
   "metadata": {},
   "outputs": [],
   "source": [
    "import numpy as np"
   ]
  },
  {
   "cell_type": "code",
   "execution_count": 12,
   "metadata": {},
   "outputs": [
    {
     "data": {
      "text/plain": [
       "array([38, 11, 39,  8, 32, 17, 24, 15, 29, 48, 32, 46, 23, 33, 12, 41, 47,\n",
       "       30, 23, 36, 36, 43, 49, 46, 15])"
      ]
     },
     "execution_count": 12,
     "metadata": {},
     "output_type": "execute_result"
    }
   ],
   "source": [
    "array = np.random.randint(1,50,25)\n",
    "array"
   ]
  },
  {
   "cell_type": "code",
   "execution_count": 13,
   "metadata": {},
   "outputs": [
    {
     "data": {
      "text/plain": [
       "array([[38, 11, 39,  8, 32],\n",
       "       [17, 24, 15, 29, 48],\n",
       "       [32, 46, 23, 33, 12],\n",
       "       [41, 47, 30, 23, 36],\n",
       "       [36, 43, 49, 46, 15]])"
      ]
     },
     "execution_count": 13,
     "metadata": {},
     "output_type": "execute_result"
    }
   ],
   "source": [
    "array.reshape(5,5)"
   ]
  },
  {
   "cell_type": "code",
   "execution_count": 15,
   "metadata": {},
   "outputs": [
    {
     "data": {
      "text/plain": [
       "22"
      ]
     },
     "execution_count": 15,
     "metadata": {},
     "output_type": "execute_result"
    }
   ],
   "source": [
    "array.argmax()"
   ]
  },
  {
   "cell_type": "code",
   "execution_count": null,
   "metadata": {},
   "outputs": [],
   "source": []
  }
 ],
 "metadata": {
  "kernelspec": {
   "display_name": "Python 3",
   "language": "python",
   "name": "python3"
  },
  "language_info": {
   "codemirror_mode": {
    "name": "ipython",
    "version": 3
   },
   "file_extension": ".py",
   "mimetype": "text/x-python",
   "name": "python",
   "nbconvert_exporter": "python",
   "pygments_lexer": "ipython3",
   "version": "3.11.5"
  },
  "orig_nbformat": 4
 },
 "nbformat": 4,
 "nbformat_minor": 2
}
